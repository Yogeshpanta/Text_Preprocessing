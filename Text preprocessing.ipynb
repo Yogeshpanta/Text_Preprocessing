{
 "cells": [
  {
   "cell_type": "markdown",
   "id": "97e3a231",
   "metadata": {},
   "source": [
    "## Text preprocessing (clean data)"
   ]
  },
  {
   "cell_type": "code",
   "execution_count": 36,
   "id": "d20a3242",
   "metadata": {},
   "outputs": [],
   "source": [
    "import pandas as pd\n",
    "import string"
   ]
  },
  {
   "cell_type": "code",
   "execution_count": 37,
   "id": "4c920b5b",
   "metadata": {},
   "outputs": [],
   "source": [
    "df = pd.read_csv(\"twitter_training.csv\")"
   ]
  },
  {
   "cell_type": "code",
   "execution_count": 38,
   "id": "6e17f508",
   "metadata": {},
   "outputs": [
    {
     "data": {
      "text/html": [
       "<div>\n",
       "<style scoped>\n",
       "    .dataframe tbody tr th:only-of-type {\n",
       "        vertical-align: middle;\n",
       "    }\n",
       "\n",
       "    .dataframe tbody tr th {\n",
       "        vertical-align: top;\n",
       "    }\n",
       "\n",
       "    .dataframe thead th {\n",
       "        text-align: right;\n",
       "    }\n",
       "</style>\n",
       "<table border=\"1\" class=\"dataframe\">\n",
       "  <thead>\n",
       "    <tr style=\"text-align: right;\">\n",
       "      <th></th>\n",
       "      <th>2401</th>\n",
       "      <th>Borderlands</th>\n",
       "      <th>Positive</th>\n",
       "      <th>im getting on borderlands and i will murder you all ,</th>\n",
       "    </tr>\n",
       "  </thead>\n",
       "  <tbody>\n",
       "    <tr>\n",
       "      <th>0</th>\n",
       "      <td>2401</td>\n",
       "      <td>Borderlands</td>\n",
       "      <td>Positive</td>\n",
       "      <td>I am coming to the borders and I will kill you...</td>\n",
       "    </tr>\n",
       "    <tr>\n",
       "      <th>1</th>\n",
       "      <td>2401</td>\n",
       "      <td>Borderlands</td>\n",
       "      <td>Positive</td>\n",
       "      <td>im getting on borderlands and i will kill you ...</td>\n",
       "    </tr>\n",
       "    <tr>\n",
       "      <th>2</th>\n",
       "      <td>2401</td>\n",
       "      <td>Borderlands</td>\n",
       "      <td>Positive</td>\n",
       "      <td>im coming on borderlands and i will murder you...</td>\n",
       "    </tr>\n",
       "    <tr>\n",
       "      <th>3</th>\n",
       "      <td>2401</td>\n",
       "      <td>Borderlands</td>\n",
       "      <td>Positive</td>\n",
       "      <td>im getting on borderlands 2 and i will murder ...</td>\n",
       "    </tr>\n",
       "    <tr>\n",
       "      <th>4</th>\n",
       "      <td>2401</td>\n",
       "      <td>Borderlands</td>\n",
       "      <td>Positive</td>\n",
       "      <td>im getting into borderlands and i can murder y...</td>\n",
       "    </tr>\n",
       "  </tbody>\n",
       "</table>\n",
       "</div>"
      ],
      "text/plain": [
       "   2401  Borderlands  Positive  \\\n",
       "0  2401  Borderlands  Positive   \n",
       "1  2401  Borderlands  Positive   \n",
       "2  2401  Borderlands  Positive   \n",
       "3  2401  Borderlands  Positive   \n",
       "4  2401  Borderlands  Positive   \n",
       "\n",
       "  im getting on borderlands and i will murder you all ,  \n",
       "0  I am coming to the borders and I will kill you...     \n",
       "1  im getting on borderlands and i will kill you ...     \n",
       "2  im coming on borderlands and i will murder you...     \n",
       "3  im getting on borderlands 2 and i will murder ...     \n",
       "4  im getting into borderlands and i can murder y...     "
      ]
     },
     "execution_count": 38,
     "metadata": {},
     "output_type": "execute_result"
    }
   ],
   "source": [
    "df.head()"
   ]
  },
  {
   "cell_type": "code",
   "execution_count": 39,
   "id": "f629f7a6",
   "metadata": {},
   "outputs": [
    {
     "data": {
      "text/plain": [
       "(74681, 4)"
      ]
     },
     "execution_count": 39,
     "metadata": {},
     "output_type": "execute_result"
    }
   ],
   "source": [
    "df.shape"
   ]
  },
  {
   "cell_type": "code",
   "execution_count": 40,
   "id": "06a906e4",
   "metadata": {},
   "outputs": [
    {
     "data": {
      "text/html": [
       "<div>\n",
       "<style scoped>\n",
       "    .dataframe tbody tr th:only-of-type {\n",
       "        vertical-align: middle;\n",
       "    }\n",
       "\n",
       "    .dataframe tbody tr th {\n",
       "        vertical-align: top;\n",
       "    }\n",
       "\n",
       "    .dataframe thead th {\n",
       "        text-align: right;\n",
       "    }\n",
       "</style>\n",
       "<table border=\"1\" class=\"dataframe\">\n",
       "  <thead>\n",
       "    <tr style=\"text-align: right;\">\n",
       "      <th></th>\n",
       "      <th>2401</th>\n",
       "      <th>Borderlands</th>\n",
       "      <th>Positive</th>\n",
       "      <th>im getting on borderlands and i will murder you all ,</th>\n",
       "    </tr>\n",
       "  </thead>\n",
       "  <tbody>\n",
       "    <tr>\n",
       "      <th>30279</th>\n",
       "      <td>7204</td>\n",
       "      <td>LeagueOfLegends</td>\n",
       "      <td>Neutral</td>\n",
       "      <td>3 RhandlerR RhandlerR RhandlerR RhandlerR . Fi...</td>\n",
       "    </tr>\n",
       "    <tr>\n",
       "      <th>60759</th>\n",
       "      <td>4810</td>\n",
       "      <td>GrandTheftAuto(GTA)</td>\n",
       "      <td>Negative</td>\n",
       "      <td>@RockstarSupport I remember ’ i m having issue...</td>\n",
       "    </tr>\n",
       "    <tr>\n",
       "      <th>68730</th>\n",
       "      <td>3769</td>\n",
       "      <td>Cyberpunk2077</td>\n",
       "      <td>Positive</td>\n",
       "      <td>A shame, but if you know CD Projects Red and k...</td>\n",
       "    </tr>\n",
       "    <tr>\n",
       "      <th>37465</th>\n",
       "      <td>5224</td>\n",
       "      <td>Hearthstone</td>\n",
       "      <td>Neutral</td>\n",
       "      <td>I played Face Hunter at Heartstone and I regre...</td>\n",
       "    </tr>\n",
       "    <tr>\n",
       "      <th>9599</th>\n",
       "      <td>12853</td>\n",
       "      <td>Xbox(Xseries)</td>\n",
       "      <td>Neutral</td>\n",
       "      <td>Xbox Series X Pre-Orders Have Been A Debacle S...</td>\n",
       "    </tr>\n",
       "    <tr>\n",
       "      <th>16142</th>\n",
       "      <td>3163</td>\n",
       "      <td>Dota2</td>\n",
       "      <td>Neutral</td>\n",
       "      <td>We are honored and Excited and announce that y...</td>\n",
       "    </tr>\n",
       "    <tr>\n",
       "      <th>22541</th>\n",
       "      <td>4259</td>\n",
       "      <td>CS-GO</td>\n",
       "      <td>Irrelevant</td>\n",
       "      <td>that's it. I don't care what u say, I'm the be...</td>\n",
       "    </tr>\n",
       "    <tr>\n",
       "      <th>51159</th>\n",
       "      <td>6381</td>\n",
       "      <td>FIFA</td>\n",
       "      <td>Positive</td>\n",
       "      <td>Am I the only one who likes FIFA 21, is gonna ...</td>\n",
       "    </tr>\n",
       "    <tr>\n",
       "      <th>44695</th>\n",
       "      <td>11676</td>\n",
       "      <td>Verizon</td>\n",
       "      <td>Negative</td>\n",
       "      <td>Verizon always tries to add bullshit when it c...</td>\n",
       "    </tr>\n",
       "    <tr>\n",
       "      <th>66835</th>\n",
       "      <td>7044</td>\n",
       "      <td>johnson&amp;johnson</td>\n",
       "      <td>Irrelevant</td>\n",
       "      <td>for FUCKS SAKE!!!!!!! A MONTH JUST ONE MONTH W...</td>\n",
       "    </tr>\n",
       "  </tbody>\n",
       "</table>\n",
       "</div>"
      ],
      "text/plain": [
       "        2401          Borderlands    Positive  \\\n",
       "30279   7204      LeagueOfLegends     Neutral   \n",
       "60759   4810  GrandTheftAuto(GTA)    Negative   \n",
       "68730   3769        Cyberpunk2077    Positive   \n",
       "37465   5224          Hearthstone     Neutral   \n",
       "9599   12853        Xbox(Xseries)     Neutral   \n",
       "16142   3163                Dota2     Neutral   \n",
       "22541   4259                CS-GO  Irrelevant   \n",
       "51159   6381                 FIFA    Positive   \n",
       "44695  11676              Verizon    Negative   \n",
       "66835   7044      johnson&johnson  Irrelevant   \n",
       "\n",
       "      im getting on borderlands and i will murder you all ,  \n",
       "30279  3 RhandlerR RhandlerR RhandlerR RhandlerR . Fi...     \n",
       "60759  @RockstarSupport I remember ’ i m having issue...     \n",
       "68730  A shame, but if you know CD Projects Red and k...     \n",
       "37465  I played Face Hunter at Heartstone and I regre...     \n",
       "9599   Xbox Series X Pre-Orders Have Been A Debacle S...     \n",
       "16142  We are honored and Excited and announce that y...     \n",
       "22541  that's it. I don't care what u say, I'm the be...     \n",
       "51159  Am I the only one who likes FIFA 21, is gonna ...     \n",
       "44695  Verizon always tries to add bullshit when it c...     \n",
       "66835  for FUCKS SAKE!!!!!!! A MONTH JUST ONE MONTH W...     "
      ]
     },
     "execution_count": 40,
     "metadata": {},
     "output_type": "execute_result"
    }
   ],
   "source": [
    "df.sample(10)"
   ]
  },
  {
   "cell_type": "markdown",
   "id": "01195024",
   "metadata": {},
   "source": [
    "### step 1: convert the text into lower case"
   ]
  },
  {
   "cell_type": "code",
   "execution_count": 41,
   "id": "d7a46205",
   "metadata": {},
   "outputs": [],
   "source": [
    "df.drop(columns= [\"2401\", \"Borderlands\"], inplace=True)"
   ]
  },
  {
   "cell_type": "code",
   "execution_count": 42,
   "id": "c6814c2c",
   "metadata": {},
   "outputs": [
    {
     "data": {
      "text/html": [
       "<div>\n",
       "<style scoped>\n",
       "    .dataframe tbody tr th:only-of-type {\n",
       "        vertical-align: middle;\n",
       "    }\n",
       "\n",
       "    .dataframe tbody tr th {\n",
       "        vertical-align: top;\n",
       "    }\n",
       "\n",
       "    .dataframe thead th {\n",
       "        text-align: right;\n",
       "    }\n",
       "</style>\n",
       "<table border=\"1\" class=\"dataframe\">\n",
       "  <thead>\n",
       "    <tr style=\"text-align: right;\">\n",
       "      <th></th>\n",
       "      <th>Positive</th>\n",
       "      <th>im getting on borderlands and i will murder you all ,</th>\n",
       "    </tr>\n",
       "  </thead>\n",
       "  <tbody>\n",
       "    <tr>\n",
       "      <th>0</th>\n",
       "      <td>Positive</td>\n",
       "      <td>I am coming to the borders and I will kill you...</td>\n",
       "    </tr>\n",
       "    <tr>\n",
       "      <th>1</th>\n",
       "      <td>Positive</td>\n",
       "      <td>im getting on borderlands and i will kill you ...</td>\n",
       "    </tr>\n",
       "    <tr>\n",
       "      <th>2</th>\n",
       "      <td>Positive</td>\n",
       "      <td>im coming on borderlands and i will murder you...</td>\n",
       "    </tr>\n",
       "    <tr>\n",
       "      <th>3</th>\n",
       "      <td>Positive</td>\n",
       "      <td>im getting on borderlands 2 and i will murder ...</td>\n",
       "    </tr>\n",
       "    <tr>\n",
       "      <th>4</th>\n",
       "      <td>Positive</td>\n",
       "      <td>im getting into borderlands and i can murder y...</td>\n",
       "    </tr>\n",
       "  </tbody>\n",
       "</table>\n",
       "</div>"
      ],
      "text/plain": [
       "   Positive im getting on borderlands and i will murder you all ,\n",
       "0  Positive  I am coming to the borders and I will kill you...   \n",
       "1  Positive  im getting on borderlands and i will kill you ...   \n",
       "2  Positive  im coming on borderlands and i will murder you...   \n",
       "3  Positive  im getting on borderlands 2 and i will murder ...   \n",
       "4  Positive  im getting into borderlands and i can murder y...   "
      ]
     },
     "execution_count": 42,
     "metadata": {},
     "output_type": "execute_result"
    }
   ],
   "source": [
    "df.head()"
   ]
  },
  {
   "cell_type": "code",
   "execution_count": 43,
   "id": "6a9935c4",
   "metadata": {},
   "outputs": [],
   "source": [
    "df[\"cleaned_twitter\"] = df[\"im getting on borderlands and i will murder you all ,\"].str.lower()"
   ]
  },
  {
   "cell_type": "code",
   "execution_count": 44,
   "id": "fea52e28",
   "metadata": {},
   "outputs": [
    {
     "data": {
      "text/html": [
       "<div>\n",
       "<style scoped>\n",
       "    .dataframe tbody tr th:only-of-type {\n",
       "        vertical-align: middle;\n",
       "    }\n",
       "\n",
       "    .dataframe tbody tr th {\n",
       "        vertical-align: top;\n",
       "    }\n",
       "\n",
       "    .dataframe thead th {\n",
       "        text-align: right;\n",
       "    }\n",
       "</style>\n",
       "<table border=\"1\" class=\"dataframe\">\n",
       "  <thead>\n",
       "    <tr style=\"text-align: right;\">\n",
       "      <th></th>\n",
       "      <th>Positive</th>\n",
       "      <th>im getting on borderlands and i will murder you all ,</th>\n",
       "      <th>cleaned_twitter</th>\n",
       "    </tr>\n",
       "  </thead>\n",
       "  <tbody>\n",
       "    <tr>\n",
       "      <th>50569</th>\n",
       "      <td>Irrelevant</td>\n",
       "      <td>A new bomb has fallen... the club is already s...</td>\n",
       "      <td>a new bomb has fallen... the club is already s...</td>\n",
       "    </tr>\n",
       "    <tr>\n",
       "      <th>989</th>\n",
       "      <td>Positive</td>\n",
       "      <td>Sweet</td>\n",
       "      <td>sweet</td>\n",
       "    </tr>\n",
       "    <tr>\n",
       "      <th>64268</th>\n",
       "      <td>Positive</td>\n",
       "      <td>Salute!!</td>\n",
       "      <td>salute!!</td>\n",
       "    </tr>\n",
       "    <tr>\n",
       "      <th>48260</th>\n",
       "      <td>Positive</td>\n",
       "      <td>I like it when they distribute free packs of w...</td>\n",
       "      <td>i like it when they distribute free packs of w...</td>\n",
       "    </tr>\n",
       "    <tr>\n",
       "      <th>42873</th>\n",
       "      <td>Irrelevant</td>\n",
       "      <td>Trickle in ya fuckers</td>\n",
       "      <td>trickle in ya fuckers</td>\n",
       "    </tr>\n",
       "    <tr>\n",
       "      <th>8064</th>\n",
       "      <td>Positive</td>\n",
       "      <td>I thought I'd posted them LMAO here's me and m...</td>\n",
       "      <td>i thought i'd posted them lmao here's me and m...</td>\n",
       "    </tr>\n",
       "    <tr>\n",
       "      <th>41653</th>\n",
       "      <td>Irrelevant</td>\n",
       "      <td>Ban for Battlefield 4 player SlothyNips has oc...</td>\n",
       "      <td>ban for battlefield 4 player slothynips has oc...</td>\n",
       "    </tr>\n",
       "    <tr>\n",
       "      <th>59432</th>\n",
       "      <td>Negative</td>\n",
       "      <td>Wanna Know How You Keep Inform When The News I...</td>\n",
       "      <td>wanna know how you keep inform when the news i...</td>\n",
       "    </tr>\n",
       "    <tr>\n",
       "      <th>54288</th>\n",
       "      <td>Negative</td>\n",
       "      <td>@ InfinityWard @ CallofDuty can't complete mis...</td>\n",
       "      <td>@ infinityward @ callofduty can't complete mis...</td>\n",
       "    </tr>\n",
       "    <tr>\n",
       "      <th>74552</th>\n",
       "      <td>Neutral</td>\n",
       "      <td>Check out this beautiful AORUS GeForce RTX SPE...</td>\n",
       "      <td>check out this beautiful aorus geforce rtx spe...</td>\n",
       "    </tr>\n",
       "  </tbody>\n",
       "</table>\n",
       "</div>"
      ],
      "text/plain": [
       "         Positive im getting on borderlands and i will murder you all ,  \\\n",
       "50569  Irrelevant  A new bomb has fallen... the club is already s...      \n",
       "989      Positive                                              Sweet      \n",
       "64268    Positive                                           Salute!!      \n",
       "48260    Positive  I like it when they distribute free packs of w...      \n",
       "42873  Irrelevant                              Trickle in ya fuckers      \n",
       "8064     Positive  I thought I'd posted them LMAO here's me and m...      \n",
       "41653  Irrelevant  Ban for Battlefield 4 player SlothyNips has oc...      \n",
       "59432    Negative  Wanna Know How You Keep Inform When The News I...      \n",
       "54288    Negative  @ InfinityWard @ CallofDuty can't complete mis...      \n",
       "74552     Neutral  Check out this beautiful AORUS GeForce RTX SPE...      \n",
       "\n",
       "                                         cleaned_twitter  \n",
       "50569  a new bomb has fallen... the club is already s...  \n",
       "989                                                sweet  \n",
       "64268                                           salute!!  \n",
       "48260  i like it when they distribute free packs of w...  \n",
       "42873                              trickle in ya fuckers  \n",
       "8064   i thought i'd posted them lmao here's me and m...  \n",
       "41653  ban for battlefield 4 player slothynips has oc...  \n",
       "59432  wanna know how you keep inform when the news i...  \n",
       "54288  @ infinityward @ callofduty can't complete mis...  \n",
       "74552  check out this beautiful aorus geforce rtx spe...  "
      ]
     },
     "execution_count": 44,
     "metadata": {},
     "output_type": "execute_result"
    }
   ],
   "source": [
    "df.sample(10)"
   ]
  },
  {
   "cell_type": "markdown",
   "id": "b3ea4762",
   "metadata": {},
   "source": [
    "## Removal of punctuation ( period (called “full stop” in the UK), question mark, exclamation point, comma, colon, semicolon, dash, hyphen, brackets, braces, parentheses, apostrophe, quotation mark, and ellipsis.)"
   ]
  },
  {
   "cell_type": "code",
   "execution_count": 45,
   "id": "4a8659e4",
   "metadata": {},
   "outputs": [
    {
     "data": {
      "text/plain": [
       "Positive                                                   0\n",
       "im getting on borderlands and i will murder you all ,    686\n",
       "cleaned_twitter                                          686\n",
       "dtype: int64"
      ]
     },
     "execution_count": 45,
     "metadata": {},
     "output_type": "execute_result"
    }
   ],
   "source": [
    "df.isna().sum()"
   ]
  },
  {
   "cell_type": "code",
   "execution_count": 46,
   "id": "0344438f",
   "metadata": {},
   "outputs": [],
   "source": [
    "df.dropna(inplace=True)"
   ]
  },
  {
   "cell_type": "code",
   "execution_count": 47,
   "id": "eafbd013",
   "metadata": {},
   "outputs": [],
   "source": [
    "df[\"cleaned_twitter\"] = df[\"cleaned_twitter\"].astype(str)"
   ]
  },
  {
   "cell_type": "code",
   "execution_count": 48,
   "id": "c32d911f",
   "metadata": {},
   "outputs": [
    {
     "data": {
      "text/plain": [
       "'!\"#$%&\\'()*+,-./:;<=>?@[\\\\]^_`{|}~'"
      ]
     },
     "execution_count": 48,
     "metadata": {},
     "output_type": "execute_result"
    }
   ],
   "source": [
    "string.punctuation"
   ]
  },
  {
   "cell_type": "code",
   "execution_count": 49,
   "id": "ca04d6cf",
   "metadata": {},
   "outputs": [],
   "source": [
    "def RemovePunctuation(text):\n",
    "    punctuations = string.punctuation\n",
    "    return text.translate(str.maketrans('','',punctuations))"
   ]
  },
  {
   "cell_type": "code",
   "execution_count": 50,
   "id": "b8d2be14",
   "metadata": {},
   "outputs": [],
   "source": [
    "df[\"cleaned_twitter\"] = df[\"cleaned_twitter\"].apply(lambda x: RemovePunctuation(x))"
   ]
  },
  {
   "cell_type": "code",
   "execution_count": 51,
   "id": "189a2fbb",
   "metadata": {},
   "outputs": [
    {
     "data": {
      "text/html": [
       "<div>\n",
       "<style scoped>\n",
       "    .dataframe tbody tr th:only-of-type {\n",
       "        vertical-align: middle;\n",
       "    }\n",
       "\n",
       "    .dataframe tbody tr th {\n",
       "        vertical-align: top;\n",
       "    }\n",
       "\n",
       "    .dataframe thead th {\n",
       "        text-align: right;\n",
       "    }\n",
       "</style>\n",
       "<table border=\"1\" class=\"dataframe\">\n",
       "  <thead>\n",
       "    <tr style=\"text-align: right;\">\n",
       "      <th></th>\n",
       "      <th>Positive</th>\n",
       "      <th>im getting on borderlands and i will murder you all ,</th>\n",
       "      <th>cleaned_twitter</th>\n",
       "    </tr>\n",
       "  </thead>\n",
       "  <tbody>\n",
       "    <tr>\n",
       "      <th>52015</th>\n",
       "      <td>Neutral</td>\n",
       "      <td>I particularly liked the part about how a team...</td>\n",
       "      <td>i particularly liked the part about how a team...</td>\n",
       "    </tr>\n",
       "    <tr>\n",
       "      <th>27327</th>\n",
       "      <td>Negative</td>\n",
       "      <td>A Ghost of the tsushima is a better assassins ...</td>\n",
       "      <td>a ghost of the tsushima is a better assassins ...</td>\n",
       "    </tr>\n",
       "    <tr>\n",
       "      <th>29838</th>\n",
       "      <td>Irrelevant</td>\n",
       "      <td>HAVE YOVER TRIED YUMMY FILIPINOS!? | SPANISH T...</td>\n",
       "      <td>have yover tried yummy filipinos  spanish typi...</td>\n",
       "    </tr>\n",
       "    <tr>\n",
       "      <th>54129</th>\n",
       "      <td>Negative</td>\n",
       "      <td>V @CallofDuty @Blizzard_Ent seriously. I want ...</td>\n",
       "      <td>v callofduty blizzardent seriously i want this...</td>\n",
       "    </tr>\n",
       "    <tr>\n",
       "      <th>57330</th>\n",
       "      <td>Neutral</td>\n",
       "      <td>Don't come into the kitchen.</td>\n",
       "      <td>dont come into the kitchen</td>\n",
       "    </tr>\n",
       "    <tr>\n",
       "      <th>50569</th>\n",
       "      <td>Irrelevant</td>\n",
       "      <td>A new bomb has fallen... the club is already s...</td>\n",
       "      <td>a new bomb has fallen the club is already shak...</td>\n",
       "    </tr>\n",
       "    <tr>\n",
       "      <th>6629</th>\n",
       "      <td>Neutral</td>\n",
       "      <td>Urban CoCo Women's Basic Versatile Stretchy Fl...</td>\n",
       "      <td>urban coco womens basic versatile stretchy fla...</td>\n",
       "    </tr>\n",
       "    <tr>\n",
       "      <th>8060</th>\n",
       "      <td>Negative</td>\n",
       "      <td>overwatch just really listens to super famous ...</td>\n",
       "      <td>overwatch just really listens to super famous ...</td>\n",
       "    </tr>\n",
       "    <tr>\n",
       "      <th>54820</th>\n",
       "      <td>Irrelevant</td>\n",
       "      <td>..... just to call for panic.. he was right at...</td>\n",
       "      <td>just to call for panic he was right at mile t...</td>\n",
       "    </tr>\n",
       "    <tr>\n",
       "      <th>59934</th>\n",
       "      <td>Negative</td>\n",
       "      <td>Stupidity!</td>\n",
       "      <td>stupidity</td>\n",
       "    </tr>\n",
       "  </tbody>\n",
       "</table>\n",
       "</div>"
      ],
      "text/plain": [
       "         Positive im getting on borderlands and i will murder you all ,  \\\n",
       "52015     Neutral  I particularly liked the part about how a team...      \n",
       "27327    Negative  A Ghost of the tsushima is a better assassins ...      \n",
       "29838  Irrelevant  HAVE YOVER TRIED YUMMY FILIPINOS!? | SPANISH T...      \n",
       "54129    Negative  V @CallofDuty @Blizzard_Ent seriously. I want ...      \n",
       "57330     Neutral                       Don't come into the kitchen.      \n",
       "50569  Irrelevant  A new bomb has fallen... the club is already s...      \n",
       "6629      Neutral  Urban CoCo Women's Basic Versatile Stretchy Fl...      \n",
       "8060     Negative  overwatch just really listens to super famous ...      \n",
       "54820  Irrelevant  ..... just to call for panic.. he was right at...      \n",
       "59934    Negative                                         Stupidity!      \n",
       "\n",
       "                                         cleaned_twitter  \n",
       "52015  i particularly liked the part about how a team...  \n",
       "27327  a ghost of the tsushima is a better assassins ...  \n",
       "29838  have yover tried yummy filipinos  spanish typi...  \n",
       "54129  v callofduty blizzardent seriously i want this...  \n",
       "57330                         dont come into the kitchen  \n",
       "50569  a new bomb has fallen the club is already shak...  \n",
       "6629   urban coco womens basic versatile stretchy fla...  \n",
       "8060   overwatch just really listens to super famous ...  \n",
       "54820   just to call for panic he was right at mile t...  \n",
       "59934                                          stupidity  "
      ]
     },
     "execution_count": 51,
     "metadata": {},
     "output_type": "execute_result"
    }
   ],
   "source": [
    "df.sample(10)"
   ]
  },
  {
   "cell_type": "markdown",
   "id": "9f24d359",
   "metadata": {},
   "source": [
    "## Removal of stopwords ( Stop words are common words, like \"a,\" \"the,\" and \"is,\" that are often filtered out or removed from text during processing, as they typically don't carry much meaning and can hinder analysis. )"
   ]
  },
  {
   "cell_type": "code",
   "execution_count": 54,
   "id": "9fb92b94",
   "metadata": {},
   "outputs": [],
   "source": [
    "# stopwords are available in nltk library\n",
    "from nltk.corpus import stopwords"
   ]
  },
  {
   "cell_type": "code",
   "execution_count": 56,
   "id": "3945116f",
   "metadata": {},
   "outputs": [
    {
     "name": "stderr",
     "output_type": "stream",
     "text": [
      "[nltk_data] Downloading package stopwords to\n",
      "[nltk_data]     C:\\Users\\Acer\\AppData\\Roaming\\nltk_data...\n",
      "[nltk_data]   Unzipping corpora\\stopwords.zip.\n"
     ]
    },
    {
     "data": {
      "text/plain": [
       "True"
      ]
     },
     "execution_count": 56,
     "metadata": {},
     "output_type": "execute_result"
    }
   ],
   "source": [
    "import nltk\n",
    "nltk.download('stopwords')"
   ]
  },
  {
   "cell_type": "code",
   "execution_count": 59,
   "id": "cc67119f",
   "metadata": {},
   "outputs": [
    {
     "data": {
      "text/plain": [
       "['a',\n",
       " 'about',\n",
       " 'above',\n",
       " 'after',\n",
       " 'again',\n",
       " 'against',\n",
       " 'ain',\n",
       " 'all',\n",
       " 'am',\n",
       " 'an',\n",
       " 'and',\n",
       " 'any',\n",
       " 'are',\n",
       " 'aren',\n",
       " \"aren't\",\n",
       " 'as',\n",
       " 'at',\n",
       " 'be',\n",
       " 'because',\n",
       " 'been',\n",
       " 'before',\n",
       " 'being',\n",
       " 'below',\n",
       " 'between',\n",
       " 'both',\n",
       " 'but',\n",
       " 'by',\n",
       " 'can',\n",
       " 'couldn',\n",
       " \"couldn't\",\n",
       " 'd',\n",
       " 'did',\n",
       " 'didn',\n",
       " \"didn't\",\n",
       " 'do',\n",
       " 'does',\n",
       " 'doesn',\n",
       " \"doesn't\",\n",
       " 'doing',\n",
       " 'don',\n",
       " \"don't\",\n",
       " 'down',\n",
       " 'during',\n",
       " 'each',\n",
       " 'few',\n",
       " 'for',\n",
       " 'from',\n",
       " 'further',\n",
       " 'had',\n",
       " 'hadn',\n",
       " \"hadn't\",\n",
       " 'has',\n",
       " 'hasn',\n",
       " \"hasn't\",\n",
       " 'have',\n",
       " 'haven',\n",
       " \"haven't\",\n",
       " 'having',\n",
       " 'he',\n",
       " \"he'd\",\n",
       " \"he'll\",\n",
       " 'her',\n",
       " 'here',\n",
       " 'hers',\n",
       " 'herself',\n",
       " \"he's\",\n",
       " 'him',\n",
       " 'himself',\n",
       " 'his',\n",
       " 'how',\n",
       " 'i',\n",
       " \"i'd\",\n",
       " 'if',\n",
       " \"i'll\",\n",
       " \"i'm\",\n",
       " 'in',\n",
       " 'into',\n",
       " 'is',\n",
       " 'isn',\n",
       " \"isn't\",\n",
       " 'it',\n",
       " \"it'd\",\n",
       " \"it'll\",\n",
       " \"it's\",\n",
       " 'its',\n",
       " 'itself',\n",
       " \"i've\",\n",
       " 'just',\n",
       " 'll',\n",
       " 'm',\n",
       " 'ma',\n",
       " 'me',\n",
       " 'mightn',\n",
       " \"mightn't\",\n",
       " 'more',\n",
       " 'most',\n",
       " 'mustn',\n",
       " \"mustn't\",\n",
       " 'my',\n",
       " 'myself',\n",
       " 'needn',\n",
       " \"needn't\",\n",
       " 'no',\n",
       " 'nor',\n",
       " 'not',\n",
       " 'now',\n",
       " 'o',\n",
       " 'of',\n",
       " 'off',\n",
       " 'on',\n",
       " 'once',\n",
       " 'only',\n",
       " 'or',\n",
       " 'other',\n",
       " 'our',\n",
       " 'ours',\n",
       " 'ourselves',\n",
       " 'out',\n",
       " 'over',\n",
       " 'own',\n",
       " 're',\n",
       " 's',\n",
       " 'same',\n",
       " 'shan',\n",
       " \"shan't\",\n",
       " 'she',\n",
       " \"she'd\",\n",
       " \"she'll\",\n",
       " \"she's\",\n",
       " 'should',\n",
       " 'shouldn',\n",
       " \"shouldn't\",\n",
       " \"should've\",\n",
       " 'so',\n",
       " 'some',\n",
       " 'such',\n",
       " 't',\n",
       " 'than',\n",
       " 'that',\n",
       " \"that'll\",\n",
       " 'the',\n",
       " 'their',\n",
       " 'theirs',\n",
       " 'them',\n",
       " 'themselves',\n",
       " 'then',\n",
       " 'there',\n",
       " 'these',\n",
       " 'they',\n",
       " \"they'd\",\n",
       " \"they'll\",\n",
       " \"they're\",\n",
       " \"they've\",\n",
       " 'this',\n",
       " 'those',\n",
       " 'through',\n",
       " 'to',\n",
       " 'too',\n",
       " 'under',\n",
       " 'until',\n",
       " 'up',\n",
       " 've',\n",
       " 'very',\n",
       " 'was',\n",
       " 'wasn',\n",
       " \"wasn't\",\n",
       " 'we',\n",
       " \"we'd\",\n",
       " \"we'll\",\n",
       " \"we're\",\n",
       " 'were',\n",
       " 'weren',\n",
       " \"weren't\",\n",
       " \"we've\",\n",
       " 'what',\n",
       " 'when',\n",
       " 'where',\n",
       " 'which',\n",
       " 'while',\n",
       " 'who',\n",
       " 'whom',\n",
       " 'why',\n",
       " 'will',\n",
       " 'with',\n",
       " 'won',\n",
       " \"won't\",\n",
       " 'wouldn',\n",
       " \"wouldn't\",\n",
       " 'y',\n",
       " 'you',\n",
       " \"you'd\",\n",
       " \"you'll\",\n",
       " 'your',\n",
       " \"you're\",\n",
       " 'yours',\n",
       " 'yourself',\n",
       " 'yourselves',\n",
       " \"you've\"]"
      ]
     },
     "execution_count": 59,
     "metadata": {},
     "output_type": "execute_result"
    }
   ],
   "source": [
    "stopwords.words(\"english\")"
   ]
  },
  {
   "cell_type": "code",
   "execution_count": 60,
   "id": "4cc0f668",
   "metadata": {},
   "outputs": [],
   "source": [
    "STOPWORDS = set(stopwords.words('english'))\n",
    "def remove_stopwords(text):\n",
    "    return \" \".join([word for word in text.split() if word not in STOPWORDS])"
   ]
  },
  {
   "cell_type": "code",
   "execution_count": 61,
   "id": "658d924e",
   "metadata": {},
   "outputs": [],
   "source": [
    "df[\"cleaned_twitter\"] = df[\"cleaned_twitter\"].apply(lambda x: remove_stopwords(x))"
   ]
  },
  {
   "cell_type": "code",
   "execution_count": 62,
   "id": "c0dad03c",
   "metadata": {},
   "outputs": [
    {
     "data": {
      "text/html": [
       "<div>\n",
       "<style scoped>\n",
       "    .dataframe tbody tr th:only-of-type {\n",
       "        vertical-align: middle;\n",
       "    }\n",
       "\n",
       "    .dataframe tbody tr th {\n",
       "        vertical-align: top;\n",
       "    }\n",
       "\n",
       "    .dataframe thead th {\n",
       "        text-align: right;\n",
       "    }\n",
       "</style>\n",
       "<table border=\"1\" class=\"dataframe\">\n",
       "  <thead>\n",
       "    <tr style=\"text-align: right;\">\n",
       "      <th></th>\n",
       "      <th>Positive</th>\n",
       "      <th>im getting on borderlands and i will murder you all ,</th>\n",
       "      <th>cleaned_twitter</th>\n",
       "    </tr>\n",
       "  </thead>\n",
       "  <tbody>\n",
       "    <tr>\n",
       "      <th>48529</th>\n",
       "      <td>Neutral</td>\n",
       "      <td>I'm going to do a cosplay rem (Death Note the ...</td>\n",
       "      <td>im going cosplay rem death note musical need h...</td>\n",
       "    </tr>\n",
       "    <tr>\n",
       "      <th>16279</th>\n",
       "      <td>Irrelevant</td>\n",
       "      <td>I am dota 2 and i like demetrius - Casey</td>\n",
       "      <td>dota 2 like demetrius casey</td>\n",
       "    </tr>\n",
       "    <tr>\n",
       "      <th>31979</th>\n",
       "      <td>Positive</td>\n",
       "      <td>Good times. 🤣</td>\n",
       "      <td>good times 🤣</td>\n",
       "    </tr>\n",
       "    <tr>\n",
       "      <th>58076</th>\n",
       "      <td>Negative</td>\n",
       "      <td>@Rainbow6Game Server are Available in Xbox 🥺</td>\n",
       "      <td>rainbow6game server available xbox 🥺</td>\n",
       "    </tr>\n",
       "    <tr>\n",
       "      <th>13930</th>\n",
       "      <td>Negative</td>\n",
       "      <td>I DONT WHO PARK R N N 1 @Beluba 2 @Beluba D @B...</td>\n",
       "      <td>dont park r n n 1 beluba 2 beluba beluba belub...</td>\n",
       "    </tr>\n",
       "    <tr>\n",
       "      <th>70202</th>\n",
       "      <td>Negative</td>\n",
       "      <td>@GhostRecon  @UbisoftSupport Your console is s...</td>\n",
       "      <td>ghostrecon ubisoftsupport console still broke ...</td>\n",
       "    </tr>\n",
       "    <tr>\n",
       "      <th>16261</th>\n",
       "      <td>Negative</td>\n",
       "      <td>A Dangerous Toxic Marine Server</td>\n",
       "      <td>dangerous toxic marine server</td>\n",
       "    </tr>\n",
       "    <tr>\n",
       "      <th>64170</th>\n",
       "      <td>Negative</td>\n",
       "      <td>@ EA has not only the worst game in @ EAMadden...</td>\n",
       "      <td>ea worst game eamaddennfl also worst servers</td>\n",
       "    </tr>\n",
       "    <tr>\n",
       "      <th>15869</th>\n",
       "      <td>Irrelevant</td>\n",
       "      <td>holy shit they gave Diretide</td>\n",
       "      <td>holy shit gave diretide</td>\n",
       "    </tr>\n",
       "    <tr>\n",
       "      <th>26223</th>\n",
       "      <td>Neutral</td>\n",
       "      <td>It is very or very large</td>\n",
       "      <td>large</td>\n",
       "    </tr>\n",
       "  </tbody>\n",
       "</table>\n",
       "</div>"
      ],
      "text/plain": [
       "         Positive im getting on borderlands and i will murder you all ,  \\\n",
       "48529     Neutral  I'm going to do a cosplay rem (Death Note the ...      \n",
       "16279  Irrelevant           I am dota 2 and i like demetrius - Casey      \n",
       "31979    Positive                                      Good times. 🤣      \n",
       "58076    Negative       @Rainbow6Game Server are Available in Xbox 🥺      \n",
       "13930    Negative  I DONT WHO PARK R N N 1 @Beluba 2 @Beluba D @B...      \n",
       "70202    Negative  @GhostRecon  @UbisoftSupport Your console is s...      \n",
       "16261    Negative                    A Dangerous Toxic Marine Server      \n",
       "64170    Negative  @ EA has not only the worst game in @ EAMadden...      \n",
       "15869  Irrelevant                       holy shit they gave Diretide      \n",
       "26223     Neutral                           It is very or very large      \n",
       "\n",
       "                                         cleaned_twitter  \n",
       "48529  im going cosplay rem death note musical need h...  \n",
       "16279                        dota 2 like demetrius casey  \n",
       "31979                                       good times 🤣  \n",
       "58076               rainbow6game server available xbox 🥺  \n",
       "13930  dont park r n n 1 beluba 2 beluba beluba belub...  \n",
       "70202  ghostrecon ubisoftsupport console still broke ...  \n",
       "16261                      dangerous toxic marine server  \n",
       "64170       ea worst game eamaddennfl also worst servers  \n",
       "15869                            holy shit gave diretide  \n",
       "26223                                              large  "
      ]
     },
     "execution_count": 62,
     "metadata": {},
     "output_type": "execute_result"
    }
   ],
   "source": [
    "df.sample(10)"
   ]
  },
  {
   "cell_type": "markdown",
   "id": "77775806",
   "metadata": {},
   "source": [
    "## Removing Frequent words"
   ]
  },
  {
   "cell_type": "code",
   "execution_count": 64,
   "id": "76f81cde",
   "metadata": {},
   "outputs": [
    {
     "data": {
      "text/plain": [
       "[('game', 8056),\n",
       " ('like', 4878),\n",
       " ('2', 4057),\n",
       " ('get', 3941),\n",
       " ('im', 3827),\n",
       " ('one', 3581),\n",
       " ('good', 3548),\n",
       " ('play', 3413),\n",
       " ('really', 3260),\n",
       " ('love', 3239),\n",
       " ('new', 3208),\n",
       " ('time', 2944),\n",
       " ('people', 2878),\n",
       " ('johnson', 2831),\n",
       " ('see', 2769),\n",
       " ('shit', 2753),\n",
       " ('3', 2583),\n",
       " ('best', 2496),\n",
       " ('still', 2450),\n",
       " ('’', 2412)]"
      ]
     },
     "execution_count": 64,
     "metadata": {},
     "output_type": "execute_result"
    }
   ],
   "source": [
    "from collections import Counter\n",
    "word_count = Counter()\n",
    "for text in df[\"cleaned_twitter\"]:\n",
    "    for word in text.split():\n",
    "        word_count[word] += 1\n",
    "word_count.most_common(20)"
   ]
  },
  {
   "cell_type": "code",
   "execution_count": 65,
   "id": "a2cbd0a4",
   "metadata": {},
   "outputs": [],
   "source": [
    "# Removing the top 3 frequent words\n",
    "FREQUENT_WORDS = set(word for (word, wc) in word_count.most_common(3))\n",
    "def remove_freq_words(text):\n",
    "    return \" \".join([word for word in text.split() if word not in FREQUENT_WORDS])"
   ]
  },
  {
   "cell_type": "code",
   "execution_count": 66,
   "id": "2ffc0e11",
   "metadata": {},
   "outputs": [],
   "source": [
    "df[\"cleaned_twitter\"] = df[\"cleaned_twitter\"].apply(lambda x: remove_freq_words(x))"
   ]
  },
  {
   "cell_type": "code",
   "execution_count": 67,
   "id": "bd8f017f",
   "metadata": {},
   "outputs": [
    {
     "data": {
      "text/html": [
       "<div>\n",
       "<style scoped>\n",
       "    .dataframe tbody tr th:only-of-type {\n",
       "        vertical-align: middle;\n",
       "    }\n",
       "\n",
       "    .dataframe tbody tr th {\n",
       "        vertical-align: top;\n",
       "    }\n",
       "\n",
       "    .dataframe thead th {\n",
       "        text-align: right;\n",
       "    }\n",
       "</style>\n",
       "<table border=\"1\" class=\"dataframe\">\n",
       "  <thead>\n",
       "    <tr style=\"text-align: right;\">\n",
       "      <th></th>\n",
       "      <th>Positive</th>\n",
       "      <th>im getting on borderlands and i will murder you all ,</th>\n",
       "      <th>cleaned_twitter</th>\n",
       "    </tr>\n",
       "  </thead>\n",
       "  <tbody>\n",
       "    <tr>\n",
       "      <th>15752</th>\n",
       "      <td>Negative</td>\n",
       "      <td>and i cant even get a season 1 battle pass. li...</td>\n",
       "      <td>cant even get season 1 battle pass life unfair</td>\n",
       "    </tr>\n",
       "    <tr>\n",
       "      <th>29013</th>\n",
       "      <td>Neutral</td>\n",
       "      <td>2008 Apex Legends GOLD III RANKED MATCHES - Fr...</td>\n",
       "      <td>2008 apex legends gold iii ranked matches tras...</td>\n",
       "    </tr>\n",
       "    <tr>\n",
       "      <th>66531</th>\n",
       "      <td>Positive</td>\n",
       "      <td>By combining product.. Learn something more : ...</td>\n",
       "      <td>combining product learn something 4 buff 0 ly ...</td>\n",
       "    </tr>\n",
       "    <tr>\n",
       "      <th>62404</th>\n",
       "      <td>Irrelevant</td>\n",
       "      <td>I</td>\n",
       "      <td></td>\n",
       "    </tr>\n",
       "    <tr>\n",
       "      <th>45169</th>\n",
       "      <td>Neutral</td>\n",
       "      <td>@ verizon</td>\n",
       "      <td>verizon</td>\n",
       "    </tr>\n",
       "    <tr>\n",
       "      <th>30950</th>\n",
       "      <td>Positive</td>\n",
       "      <td>Day ten of playing League of Brothers. My wife...</td>\n",
       "      <td>day ten playing league brothers wife left kids...</td>\n",
       "    </tr>\n",
       "    <tr>\n",
       "      <th>36974</th>\n",
       "      <td>Neutral</td>\n",
       "      <td>Microsoft staff struggle beneath the strains o...</td>\n",
       "      <td>microsoft staff struggle beneath strains 52000...</td>\n",
       "    </tr>\n",
       "    <tr>\n",
       "      <th>69440</th>\n",
       "      <td>Positive</td>\n",
       "      <td>That Cyberpunk Xbox One X sure felt impressive...</td>\n",
       "      <td>cyberpunk xbox one x sure felt impressive impr...</td>\n",
       "    </tr>\n",
       "    <tr>\n",
       "      <th>48276</th>\n",
       "      <td>Positive</td>\n",
       "      <td>Today's market recap - made big profits from H...</td>\n",
       "      <td>todays market recap made big profits home depo...</td>\n",
       "    </tr>\n",
       "    <tr>\n",
       "      <th>12001</th>\n",
       "      <td>Negative</td>\n",
       "      <td>MyTeam Man is stupid. Why are the packs so bad...</td>\n",
       "      <td>myteam man stupid packs bad deduction packs ex...</td>\n",
       "    </tr>\n",
       "  </tbody>\n",
       "</table>\n",
       "</div>"
      ],
      "text/plain": [
       "         Positive im getting on borderlands and i will murder you all ,  \\\n",
       "15752    Negative  and i cant even get a season 1 battle pass. li...      \n",
       "29013     Neutral  2008 Apex Legends GOLD III RANKED MATCHES - Fr...      \n",
       "66531    Positive  By combining product.. Learn something more : ...      \n",
       "62404  Irrelevant                                                  I      \n",
       "45169     Neutral                                          @ verizon      \n",
       "30950    Positive  Day ten of playing League of Brothers. My wife...      \n",
       "36974     Neutral  Microsoft staff struggle beneath the strains o...      \n",
       "69440    Positive  That Cyberpunk Xbox One X sure felt impressive...      \n",
       "48276    Positive  Today's market recap - made big profits from H...      \n",
       "12001    Negative  MyTeam Man is stupid. Why are the packs so bad...      \n",
       "\n",
       "                                         cleaned_twitter  \n",
       "15752     cant even get season 1 battle pass life unfair  \n",
       "29013  2008 apex legends gold iii ranked matches tras...  \n",
       "66531  combining product learn something 4 buff 0 ly ...  \n",
       "62404                                                     \n",
       "45169                                            verizon  \n",
       "30950  day ten playing league brothers wife left kids...  \n",
       "36974  microsoft staff struggle beneath strains 52000...  \n",
       "69440  cyberpunk xbox one x sure felt impressive impr...  \n",
       "48276  todays market recap made big profits home depo...  \n",
       "12001  myteam man stupid packs bad deduction packs ex...  "
      ]
     },
     "execution_count": 67,
     "metadata": {},
     "output_type": "execute_result"
    }
   ],
   "source": [
    "df.sample(10)"
   ]
  },
  {
   "cell_type": "markdown",
   "id": "be11df5d",
   "metadata": {},
   "source": [
    "### Removal of Rare Words"
   ]
  },
  {
   "cell_type": "code",
   "execution_count": 68,
   "id": "36ccbf01",
   "metadata": {},
   "outputs": [
    {
     "data": {
      "text/plain": [
       "{'challen',\n",
       " 'doxmaxbitcc',\n",
       " 'intend',\n",
       " 'maxbit',\n",
       " 'maxbitcc',\n",
       " 'maxbitccnvidiadoesnt',\n",
       " 'netcomgooglechallen',\n",
       " 'nvidiadoes',\n",
       " 'nvidiadoesnt'}"
      ]
     },
     "execution_count": 68,
     "metadata": {},
     "output_type": "execute_result"
    }
   ],
   "source": [
    "RARE_WORDS = set(word for (word, wc) in word_count.most_common()[:-10:-1])\n",
    "RARE_WORDS"
   ]
  },
  {
   "cell_type": "code",
   "execution_count": 69,
   "id": "ab660be1",
   "metadata": {},
   "outputs": [],
   "source": [
    "def remove_rare_words(text):\n",
    "    return \" \".join([word for word in text.split() if word not in RARE_WORDS])"
   ]
  },
  {
   "cell_type": "code",
   "execution_count": 70,
   "id": "114e6010",
   "metadata": {},
   "outputs": [],
   "source": [
    "df[\"cleaned_twitter\"] = df[\"cleaned_twitter\"].apply(lambda x: remove_rare_words(x))"
   ]
  },
  {
   "cell_type": "code",
   "execution_count": 71,
   "id": "409593f8",
   "metadata": {},
   "outputs": [
    {
     "data": {
      "text/html": [
       "<div>\n",
       "<style scoped>\n",
       "    .dataframe tbody tr th:only-of-type {\n",
       "        vertical-align: middle;\n",
       "    }\n",
       "\n",
       "    .dataframe tbody tr th {\n",
       "        vertical-align: top;\n",
       "    }\n",
       "\n",
       "    .dataframe thead th {\n",
       "        text-align: right;\n",
       "    }\n",
       "</style>\n",
       "<table border=\"1\" class=\"dataframe\">\n",
       "  <thead>\n",
       "    <tr style=\"text-align: right;\">\n",
       "      <th></th>\n",
       "      <th>Positive</th>\n",
       "      <th>im getting on borderlands and i will murder you all ,</th>\n",
       "      <th>cleaned_twitter</th>\n",
       "    </tr>\n",
       "  </thead>\n",
       "  <tbody>\n",
       "    <tr>\n",
       "      <th>54440</th>\n",
       "      <td>Positive</td>\n",
       "      <td>This isn't amateur hour! I'm still crushing so...</td>\n",
       "      <td>isnt amateur hour im still crushing call duty ...</td>\n",
       "    </tr>\n",
       "    <tr>\n",
       "      <th>22072</th>\n",
       "      <td>Positive</td>\n",
       "      <td>then hear the people who want to play VALORANT...</td>\n",
       "      <td>hear people want play valorant saying pursue p...</td>\n",
       "    </tr>\n",
       "    <tr>\n",
       "      <th>44833</th>\n",
       "      <td>Positive</td>\n",
       "      <td>2.0 @ Charitymiles for @ alzassociation. Thank...</td>\n",
       "      <td>20 charitymiles alzassociation thanks verizon ...</td>\n",
       "    </tr>\n",
       "    <tr>\n",
       "      <th>65326</th>\n",
       "      <td>Negative</td>\n",
       "      <td>At last let players grind down your game you g...</td>\n",
       "      <td>last let players grind get extra gear want pay...</td>\n",
       "    </tr>\n",
       "    <tr>\n",
       "      <th>3581</th>\n",
       "      <td>Positive</td>\n",
       "      <td>This looks amazing! Have high hopes for this.....</td>\n",
       "      <td>looks amazing high hopes considering shite rec...</td>\n",
       "    </tr>\n",
       "    <tr>\n",
       "      <th>42787</th>\n",
       "      <td>Irrelevant</td>\n",
       "      <td>Got a whole load of work including some PUBG F...</td>\n",
       "      <td>got whole load work including pubg funny momen...</td>\n",
       "    </tr>\n",
       "    <tr>\n",
       "      <th>64179</th>\n",
       "      <td>Negative</td>\n",
       "      <td>@EAMaddenNFL... wtf think is this some garbage...</td>\n",
       "      <td>eamaddennfl wtf think garbage ass sound track ...</td>\n",
       "    </tr>\n",
       "    <tr>\n",
       "      <th>18094</th>\n",
       "      <td>Positive</td>\n",
       "      <td>still can’t wait for my brother to purchase th...</td>\n",
       "      <td>still can’t wait brother purchase ps5 simply w...</td>\n",
       "    </tr>\n",
       "    <tr>\n",
       "      <th>55931</th>\n",
       "      <td>Negative</td>\n",
       "      <td>Here's the clip, before I exited the game you ...</td>\n",
       "      <td>heres clip exited see would let fully load thi...</td>\n",
       "    </tr>\n",
       "    <tr>\n",
       "      <th>57133</th>\n",
       "      <td>Positive</td>\n",
       "      <td>Nice lil fuze play here.</td>\n",
       "      <td>nice lil fuze play</td>\n",
       "    </tr>\n",
       "  </tbody>\n",
       "</table>\n",
       "</div>"
      ],
      "text/plain": [
       "         Positive im getting on borderlands and i will murder you all ,  \\\n",
       "54440    Positive  This isn't amateur hour! I'm still crushing so...      \n",
       "22072    Positive  then hear the people who want to play VALORANT...      \n",
       "44833    Positive  2.0 @ Charitymiles for @ alzassociation. Thank...      \n",
       "65326    Negative  At last let players grind down your game you g...      \n",
       "3581     Positive  This looks amazing! Have high hopes for this.....      \n",
       "42787  Irrelevant  Got a whole load of work including some PUBG F...      \n",
       "64179    Negative  @EAMaddenNFL... wtf think is this some garbage...      \n",
       "18094    Positive  still can’t wait for my brother to purchase th...      \n",
       "55931    Negative  Here's the clip, before I exited the game you ...      \n",
       "57133    Positive                           Nice lil fuze play here.      \n",
       "\n",
       "                                         cleaned_twitter  \n",
       "54440  isnt amateur hour im still crushing call duty ...  \n",
       "22072  hear people want play valorant saying pursue p...  \n",
       "44833  20 charitymiles alzassociation thanks verizon ...  \n",
       "65326  last let players grind get extra gear want pay...  \n",
       "3581   looks amazing high hopes considering shite rec...  \n",
       "42787  got whole load work including pubg funny momen...  \n",
       "64179  eamaddennfl wtf think garbage ass sound track ...  \n",
       "18094  still can’t wait brother purchase ps5 simply w...  \n",
       "55931  heres clip exited see would let fully load thi...  \n",
       "57133                                 nice lil fuze play  "
      ]
     },
     "execution_count": 71,
     "metadata": {},
     "output_type": "execute_result"
    }
   ],
   "source": [
    "df.sample(10)"
   ]
  },
  {
   "cell_type": "markdown",
   "id": "72de26a9",
   "metadata": {},
   "source": [
    "## Removal of Special Characters"
   ]
  },
  {
   "cell_type": "code",
   "execution_count": 72,
   "id": "f2cae78a",
   "metadata": {},
   "outputs": [],
   "source": [
    "import re\n",
    "def remove_spl_chars(text):\n",
    "    text = re.sub('[^a-zA-Z0-9]',' ', text)\n",
    "    text = re.sub('\\s+', ' ', text)\n",
    "    return text"
   ]
  },
  {
   "cell_type": "code",
   "execution_count": 74,
   "id": "d03743fa",
   "metadata": {},
   "outputs": [],
   "source": [
    "df[\"cleaned_twitter\"] = df[\"cleaned_twitter\"].apply(lambda x: remove_spl_chars(x))"
   ]
  },
  {
   "cell_type": "code",
   "execution_count": 76,
   "id": "df6e02b0",
   "metadata": {},
   "outputs": [
    {
     "data": {
      "text/html": [
       "<div>\n",
       "<style scoped>\n",
       "    .dataframe tbody tr th:only-of-type {\n",
       "        vertical-align: middle;\n",
       "    }\n",
       "\n",
       "    .dataframe tbody tr th {\n",
       "        vertical-align: top;\n",
       "    }\n",
       "\n",
       "    .dataframe thead th {\n",
       "        text-align: right;\n",
       "    }\n",
       "</style>\n",
       "<table border=\"1\" class=\"dataframe\">\n",
       "  <thead>\n",
       "    <tr style=\"text-align: right;\">\n",
       "      <th></th>\n",
       "      <th>Positive</th>\n",
       "      <th>im getting on borderlands and i will murder you all ,</th>\n",
       "      <th>cleaned_twitter</th>\n",
       "    </tr>\n",
       "  </thead>\n",
       "  <tbody>\n",
       "    <tr>\n",
       "      <th>54346</th>\n",
       "      <td>Negative</td>\n",
       "      <td>Garbage ass @CallofDuty a lagged me out 60 kil...</td>\n",
       "      <td>garbage ass callofduty lagged 60 kills solo ma...</td>\n",
       "    </tr>\n",
       "    <tr>\n",
       "      <th>65952</th>\n",
       "      <td>Neutral</td>\n",
       "      <td>Johnson &amp; Johnson suspends COVID-19 vaccine tr...</td>\n",
       "      <td>johnson johnson suspends covid19 vaccine trial...</td>\n",
       "    </tr>\n",
       "    <tr>\n",
       "      <th>54985</th>\n",
       "      <td>Positive</td>\n",
       "      <td>bitch, you don't need a call of duty anyway.</td>\n",
       "      <td>bitch dont need call duty anyway</td>\n",
       "    </tr>\n",
       "    <tr>\n",
       "      <th>14485</th>\n",
       "      <td>Positive</td>\n",
       "      <td>The. Best. Feeling. redd.it / gc4gm3</td>\n",
       "      <td>best feeling reddit gc4gm3</td>\n",
       "    </tr>\n",
       "    <tr>\n",
       "      <th>59016</th>\n",
       "      <td>Neutral</td>\n",
       "      <td>Panic at @ YouTube Panic at @ Facebook Panic a...</td>\n",
       "      <td>panic youtube panic facebook panic twitter rea...</td>\n",
       "    </tr>\n",
       "    <tr>\n",
       "      <th>32158</th>\n",
       "      <td>Positive</td>\n",
       "      <td>a</td>\n",
       "      <td></td>\n",
       "    </tr>\n",
       "    <tr>\n",
       "      <th>22893</th>\n",
       "      <td>Neutral</td>\n",
       "      <td>bruh i d haven't played me csgo for like a fuc...</td>\n",
       "      <td>bruh havent played csgo fucking week wtf</td>\n",
       "    </tr>\n",
       "    <tr>\n",
       "      <th>72256</th>\n",
       "      <td>Neutral</td>\n",
       "      <td>Me How haha &lt;unk&gt;</td>\n",
       "      <td>haha unk</td>\n",
       "    </tr>\n",
       "    <tr>\n",
       "      <th>70855</th>\n",
       "      <td>Positive</td>\n",
       "      <td>Now that my AI teammates are back in @ GhostRe...</td>\n",
       "      <td>ai teammates back ghostrecon breakpoint would ...</td>\n",
       "    </tr>\n",
       "    <tr>\n",
       "      <th>69588</th>\n",
       "      <td>Positive</td>\n",
       "      <td>Yes, Boy!.</td>\n",
       "      <td>yes boy</td>\n",
       "    </tr>\n",
       "  </tbody>\n",
       "</table>\n",
       "</div>"
      ],
      "text/plain": [
       "       Positive im getting on borderlands and i will murder you all ,  \\\n",
       "54346  Negative  Garbage ass @CallofDuty a lagged me out 60 kil...      \n",
       "65952   Neutral  Johnson & Johnson suspends COVID-19 vaccine tr...      \n",
       "54985  Positive       bitch, you don't need a call of duty anyway.      \n",
       "14485  Positive               The. Best. Feeling. redd.it / gc4gm3      \n",
       "59016   Neutral  Panic at @ YouTube Panic at @ Facebook Panic a...      \n",
       "32158  Positive                                                  a      \n",
       "22893   Neutral  bruh i d haven't played me csgo for like a fuc...      \n",
       "72256   Neutral                                  Me How haha <unk>      \n",
       "70855  Positive  Now that my AI teammates are back in @ GhostRe...      \n",
       "69588  Positive                                         Yes, Boy!.      \n",
       "\n",
       "                                         cleaned_twitter  \n",
       "54346  garbage ass callofduty lagged 60 kills solo ma...  \n",
       "65952  johnson johnson suspends covid19 vaccine trial...  \n",
       "54985                   bitch dont need call duty anyway  \n",
       "14485                         best feeling reddit gc4gm3  \n",
       "59016  panic youtube panic facebook panic twitter rea...  \n",
       "32158                                                     \n",
       "22893           bruh havent played csgo fucking week wtf  \n",
       "72256                                           haha unk  \n",
       "70855  ai teammates back ghostrecon breakpoint would ...  \n",
       "69588                                            yes boy  "
      ]
     },
     "execution_count": 76,
     "metadata": {},
     "output_type": "execute_result"
    }
   ],
   "source": [
    "df.sample(10)"
   ]
  },
  {
   "cell_type": "markdown",
   "id": "b2798b9d",
   "metadata": {},
   "source": [
    "## Stemming ( Stemming is a technique used in Natural Language Processing (NLP) to reduce words to their root or base form by removing suffixes. The goal is to normalize words and improve text processing efficiency.)"
   ]
  },
  {
   "cell_type": "code",
   "execution_count": 77,
   "id": "482d692b",
   "metadata": {},
   "outputs": [],
   "source": [
    "from nltk.stem.porter import PorterStemmer\n",
    "ps = PorterStemmer()\n",
    "def stem_words(text):\n",
    "    return \" \".join([ps.stem(word) for word in text.split()])"
   ]
  },
  {
   "cell_type": "code",
   "execution_count": 79,
   "id": "b52f68a2",
   "metadata": {},
   "outputs": [],
   "source": [
    "df[\"stemmed_twitter\"] = df[\"cleaned_twitter\"].apply(lambda x: stem_words(x))"
   ]
  },
  {
   "cell_type": "code",
   "execution_count": 80,
   "id": "15ba0d65",
   "metadata": {},
   "outputs": [
    {
     "data": {
      "text/html": [
       "<div>\n",
       "<style scoped>\n",
       "    .dataframe tbody tr th:only-of-type {\n",
       "        vertical-align: middle;\n",
       "    }\n",
       "\n",
       "    .dataframe tbody tr th {\n",
       "        vertical-align: top;\n",
       "    }\n",
       "\n",
       "    .dataframe thead th {\n",
       "        text-align: right;\n",
       "    }\n",
       "</style>\n",
       "<table border=\"1\" class=\"dataframe\">\n",
       "  <thead>\n",
       "    <tr style=\"text-align: right;\">\n",
       "      <th></th>\n",
       "      <th>Positive</th>\n",
       "      <th>im getting on borderlands and i will murder you all ,</th>\n",
       "      <th>cleaned_twitter</th>\n",
       "      <th>stemmed_twitter</th>\n",
       "    </tr>\n",
       "  </thead>\n",
       "  <tbody>\n",
       "    <tr>\n",
       "      <th>4318</th>\n",
       "      <td>Positive</td>\n",
       "      <td>The menu looks so nice. I just dont understand...</td>\n",
       "      <td>menu looks nice dont understand everyone thoug...</td>\n",
       "      <td>menu look nice dont understand everyon thought...</td>\n",
       "    </tr>\n",
       "    <tr>\n",
       "      <th>26947</th>\n",
       "      <td>Positive</td>\n",
       "      <td>\"Nothing is true, everything is permitted. We ...</td>\n",
       "      <td>nothing true everything permitted work dark se...</td>\n",
       "      <td>noth true everyth permit work dark serv light ...</td>\n",
       "    </tr>\n",
       "    <tr>\n",
       "      <th>14186</th>\n",
       "      <td>Positive</td>\n",
       "      <td>Its it's ain't much. but Im still happy I got ...</td>\n",
       "      <td>aint much im still happy got windowithcte5f</td>\n",
       "      <td>aint much im still happi got windowithcte5f</td>\n",
       "    </tr>\n",
       "    <tr>\n",
       "      <th>61593</th>\n",
       "      <td>Negative</td>\n",
       "      <td>@RockstarGames is the user prompt for deleting...</td>\n",
       "      <td>rockstargames user prompt deleting vehicles fu...</td>\n",
       "      <td>rockstargam user prompt delet vehicl full fami...</td>\n",
       "    </tr>\n",
       "    <tr>\n",
       "      <th>69627</th>\n",
       "      <td>Positive</td>\n",
       "      <td>This looks... kinda clean!</td>\n",
       "      <td>looks kinda clean</td>\n",
       "      <td>look kinda clean</td>\n",
       "    </tr>\n",
       "    <tr>\n",
       "      <th>53017</th>\n",
       "      <td>Irrelevant</td>\n",
       "      <td>Fact. Max Payne 3 is a low-key Rockstars best ...</td>\n",
       "      <td>fact max payne 3 lowkey rockstars best</td>\n",
       "      <td>fact max payn 3 lowkey rockstar best</td>\n",
       "    </tr>\n",
       "    <tr>\n",
       "      <th>20358</th>\n",
       "      <td>Neutral</td>\n",
       "      <td>I just earned the [Ahead of the Curve: N'Zoth ...</td>\n",
       "      <td>earned ahead curve nzoth corruptor performance</td>\n",
       "      <td>earn ahead curv nzoth corruptor perform</td>\n",
       "    </tr>\n",
       "    <tr>\n",
       "      <th>10966</th>\n",
       "      <td>Irrelevant</td>\n",
       "      <td>Colt is at it again. You guys ready for my won...</td>\n",
       "      <td>colt guys ready wonderful sweet sounds shhhhhh</td>\n",
       "      <td>colt guy readi wonder sweet sound shhhhhh</td>\n",
       "    </tr>\n",
       "    <tr>\n",
       "      <th>43127</th>\n",
       "      <td>Negative</td>\n",
       "      <td>youtu.be/c-aixISTD2U. Again 47 apps banned. PU...</td>\n",
       "      <td>youtubecaixistd2u 47 apps banned pubg ban pann...</td>\n",
       "      <td>youtubecaixistd2u 47 app ban pubg ban pannuvan...</td>\n",
       "    </tr>\n",
       "    <tr>\n",
       "      <th>71859</th>\n",
       "      <td>Neutral</td>\n",
       "      <td>* 5 Stewart voice * 2 Nooooooo stop iiiiiiiit</td>\n",
       "      <td>5 stewart voice nooooooo stop iiiiiiiit</td>\n",
       "      <td>5 stewart voic nooooooo stop iiiiiiiit</td>\n",
       "    </tr>\n",
       "  </tbody>\n",
       "</table>\n",
       "</div>"
      ],
      "text/plain": [
       "         Positive im getting on borderlands and i will murder you all ,  \\\n",
       "4318     Positive  The menu looks so nice. I just dont understand...      \n",
       "26947    Positive  \"Nothing is true, everything is permitted. We ...      \n",
       "14186    Positive  Its it's ain't much. but Im still happy I got ...      \n",
       "61593    Negative  @RockstarGames is the user prompt for deleting...      \n",
       "69627    Positive                         This looks... kinda clean!      \n",
       "53017  Irrelevant  Fact. Max Payne 3 is a low-key Rockstars best ...      \n",
       "20358     Neutral  I just earned the [Ahead of the Curve: N'Zoth ...      \n",
       "10966  Irrelevant  Colt is at it again. You guys ready for my won...      \n",
       "43127    Negative  youtu.be/c-aixISTD2U. Again 47 apps banned. PU...      \n",
       "71859     Neutral      * 5 Stewart voice * 2 Nooooooo stop iiiiiiiit      \n",
       "\n",
       "                                         cleaned_twitter  \\\n",
       "4318   menu looks nice dont understand everyone thoug...   \n",
       "26947  nothing true everything permitted work dark se...   \n",
       "14186        aint much im still happy got windowithcte5f   \n",
       "61593  rockstargames user prompt deleting vehicles fu...   \n",
       "69627                                  looks kinda clean   \n",
       "53017             fact max payne 3 lowkey rockstars best   \n",
       "20358     earned ahead curve nzoth corruptor performance   \n",
       "10966     colt guys ready wonderful sweet sounds shhhhhh   \n",
       "43127  youtubecaixistd2u 47 apps banned pubg ban pann...   \n",
       "71859            5 stewart voice nooooooo stop iiiiiiiit   \n",
       "\n",
       "                                         stemmed_twitter  \n",
       "4318   menu look nice dont understand everyon thought...  \n",
       "26947  noth true everyth permit work dark serv light ...  \n",
       "14186        aint much im still happi got windowithcte5f  \n",
       "61593  rockstargam user prompt delet vehicl full fami...  \n",
       "69627                                   look kinda clean  \n",
       "53017               fact max payn 3 lowkey rockstar best  \n",
       "20358            earn ahead curv nzoth corruptor perform  \n",
       "10966          colt guy readi wonder sweet sound shhhhhh  \n",
       "43127  youtubecaixistd2u 47 app ban pubg ban pannuvan...  \n",
       "71859             5 stewart voic nooooooo stop iiiiiiiit  "
      ]
     },
     "execution_count": 80,
     "metadata": {},
     "output_type": "execute_result"
    }
   ],
   "source": [
    "df.sample(10)"
   ]
  },
  {
   "cell_type": "markdown",
   "id": "3d0cc023",
   "metadata": {},
   "source": [
    "## Lemmatization is the process of reducing words to their base or dictionary form (lemma) while considering the word's meaning and part of speech (POS). Unlike stemming, it produces real words.\n",
    "\n",
    "## POS tagging is the process of labeling words in a sentence based on their grammatical category (noun, verb, adjective, etc.). It helps in understanding sentence structure and is useful for lemmatization, named entity recognition (NER), and text parsing."
   ]
  },
  {
   "cell_type": "code",
   "execution_count": 82,
   "id": "6348e574",
   "metadata": {},
   "outputs": [],
   "source": [
    "from nltk import pos_tag\n",
    "from nltk.corpus import wordnet\n",
    "from nltk.stem import WordNetLemmatizer"
   ]
  },
  {
   "cell_type": "code",
   "execution_count": 84,
   "id": "2590a8ce",
   "metadata": {},
   "outputs": [
    {
     "name": "stderr",
     "output_type": "stream",
     "text": [
      "[nltk_data] Downloading package wordnet to\n",
      "[nltk_data]     C:\\Users\\Acer\\AppData\\Roaming\\nltk_data...\n"
     ]
    },
    {
     "data": {
      "text/plain": [
       "True"
      ]
     },
     "execution_count": 84,
     "metadata": {},
     "output_type": "execute_result"
    }
   ],
   "source": [
    "import nltk\n",
    "nltk.download('wordnet')"
   ]
  },
  {
   "cell_type": "code",
   "execution_count": 85,
   "id": "cfa4d864",
   "metadata": {},
   "outputs": [],
   "source": [
    "lemmatizer = WordNetLemmatizer()\n",
    "wordnet_map = {\"N\": wordnet.NOUN, \"V\": wordnet.VERB, \"J\":wordnet.ADJ, \"R\":wordnet.ADV}"
   ]
  },
  {
   "cell_type": "code",
   "execution_count": 86,
   "id": "3f77693c",
   "metadata": {},
   "outputs": [],
   "source": [
    "def lemmatize_words(text):\n",
    "    #find pos tags\n",
    "    pos_text = pos_tag(text.split())\n",
    "    return \" \".join([lemmatizer.lemmatize(word, wordnet_map.get(pos[0], wordnet.NOUN)) for word, pos in pos_text])"
   ]
  },
  {
   "cell_type": "code",
   "execution_count": 89,
   "id": "1adf5fa0",
   "metadata": {},
   "outputs": [
    {
     "name": "stderr",
     "output_type": "stream",
     "text": [
      "[nltk_data] Downloading package averaged_perceptron_tagger_eng to\n",
      "[nltk_data]     C:\\Users\\Acer\\AppData\\Roaming\\nltk_data...\n",
      "[nltk_data]   Unzipping taggers\\averaged_perceptron_tagger_eng.zip.\n"
     ]
    },
    {
     "data": {
      "text/plain": [
       "True"
      ]
     },
     "execution_count": 89,
     "metadata": {},
     "output_type": "execute_result"
    }
   ],
   "source": [
    "import nltk\n",
    "nltk.download('averaged_perceptron_tagger_eng')"
   ]
  },
  {
   "cell_type": "code",
   "execution_count": 90,
   "id": "dbd658e6",
   "metadata": {},
   "outputs": [],
   "source": [
    "df[\"lemmatized_twitter\"] = df[\"cleaned_twitter\"].apply(lambda x: lemmatize_words(x))"
   ]
  },
  {
   "cell_type": "code",
   "execution_count": 91,
   "id": "2ffd7abf",
   "metadata": {},
   "outputs": [
    {
     "data": {
      "text/html": [
       "<div>\n",
       "<style scoped>\n",
       "    .dataframe tbody tr th:only-of-type {\n",
       "        vertical-align: middle;\n",
       "    }\n",
       "\n",
       "    .dataframe tbody tr th {\n",
       "        vertical-align: top;\n",
       "    }\n",
       "\n",
       "    .dataframe thead th {\n",
       "        text-align: right;\n",
       "    }\n",
       "</style>\n",
       "<table border=\"1\" class=\"dataframe\">\n",
       "  <thead>\n",
       "    <tr style=\"text-align: right;\">\n",
       "      <th></th>\n",
       "      <th>Positive</th>\n",
       "      <th>im getting on borderlands and i will murder you all ,</th>\n",
       "      <th>cleaned_twitter</th>\n",
       "      <th>stemmed_twitter</th>\n",
       "      <th>lemmatized_twitter</th>\n",
       "    </tr>\n",
       "  </thead>\n",
       "  <tbody>\n",
       "    <tr>\n",
       "      <th>13411</th>\n",
       "      <td>Negative</td>\n",
       "      <td>@ N2K Can you guys explain why this \"special o...</td>\n",
       "      <td>n2k guys explain special offer keeps growing b...</td>\n",
       "      <td>n2k guy explain special offer keep grow buy no...</td>\n",
       "      <td>n2k guy explain special offer keep grow buy no...</td>\n",
       "    </tr>\n",
       "    <tr>\n",
       "      <th>5348</th>\n",
       "      <td>Neutral</td>\n",
       "      <td>I didn't have massive data in . . Here's one d...</td>\n",
       "      <td>didnt massive data heres one detailed review</td>\n",
       "      <td>didnt massiv data here one detail review</td>\n",
       "      <td>didnt massive data here one detail review</td>\n",
       "    </tr>\n",
       "    <tr>\n",
       "      <th>19788</th>\n",
       "      <td>Neutral</td>\n",
       "      <td>Unluckiest roller I've seen so far....</td>\n",
       "      <td>unluckiest roller ive seen far</td>\n",
       "      <td>unluckiest roller ive seen far</td>\n",
       "      <td>unluckiest roller ive see far</td>\n",
       "    </tr>\n",
       "    <tr>\n",
       "      <th>71197</th>\n",
       "      <td>Negative</td>\n",
       "      <td>I hate playing against computer players not on...</td>\n",
       "      <td>hate playing computer players play crap also c...</td>\n",
       "      <td>hate play comput player play crap also chanc mous</td>\n",
       "      <td>hate playing computer player play crap also ch...</td>\n",
       "    </tr>\n",
       "    <tr>\n",
       "      <th>65043</th>\n",
       "      <td>Negative</td>\n",
       "      <td>More @EAMaddenNFL madden The 21 ’ s career mod...</td>\n",
       "      <td>eamaddennfl madden 21 career mode sucks please...</td>\n",
       "      <td>eamaddennfl madden 21 career mode suck pleas b...</td>\n",
       "      <td>eamaddennfl madden 21 career mode suck please ...</td>\n",
       "    </tr>\n",
       "    <tr>\n",
       "      <th>59515</th>\n",
       "      <td>Irrelevant</td>\n",
       "      <td>Another reason for QT's superiority.</td>\n",
       "      <td>another reason qts superiority</td>\n",
       "      <td>anoth reason qt superior</td>\n",
       "      <td>another reason qts superiority</td>\n",
       "    </tr>\n",
       "    <tr>\n",
       "      <th>42220</th>\n",
       "      <td>Irrelevant</td>\n",
       "      <td>Holy shit the kids are out my numbers again on...</td>\n",
       "      <td>holy shit kids numbers oce pubg bgk 0 0 one do...</td>\n",
       "      <td>holi shit kid number oce pubg bgk 0 0 one douy...</td>\n",
       "      <td>holy shit kid number oce pubg bgk 0 0 one douy...</td>\n",
       "    </tr>\n",
       "    <tr>\n",
       "      <th>60761</th>\n",
       "      <td>Positive</td>\n",
       "      <td>Grand Theft Auto 5 (EU) for a good Price g2a.c...</td>\n",
       "      <td>grand theft auto 5 eu good price g2acomrquicks...</td>\n",
       "      <td>grand theft auto 5 eu good price g2acomrquicks...</td>\n",
       "      <td>grand theft auto 5 eu good price g2acomrquicks...</td>\n",
       "    </tr>\n",
       "    <tr>\n",
       "      <th>11622</th>\n",
       "      <td>Neutral</td>\n",
       "      <td>It could go very well... or go horribly wrong.</td>\n",
       "      <td>could go well go horribly wrong</td>\n",
       "      <td>could go well go horribl wrong</td>\n",
       "      <td>could go well go horribly wrong</td>\n",
       "    </tr>\n",
       "    <tr>\n",
       "      <th>36322</th>\n",
       "      <td>Negative</td>\n",
       "      <td>Though this is great news personally. al.ly/30...</td>\n",
       "      <td>though great news personally ally30eeddn</td>\n",
       "      <td>though great news person ally30eeddn</td>\n",
       "      <td>though great news personally ally30eeddn</td>\n",
       "    </tr>\n",
       "  </tbody>\n",
       "</table>\n",
       "</div>"
      ],
      "text/plain": [
       "         Positive im getting on borderlands and i will murder you all ,  \\\n",
       "13411    Negative  @ N2K Can you guys explain why this \"special o...      \n",
       "5348      Neutral  I didn't have massive data in . . Here's one d...      \n",
       "19788     Neutral             Unluckiest roller I've seen so far....      \n",
       "71197    Negative  I hate playing against computer players not on...      \n",
       "65043    Negative  More @EAMaddenNFL madden The 21 ’ s career mod...      \n",
       "59515  Irrelevant               Another reason for QT's superiority.      \n",
       "42220  Irrelevant  Holy shit the kids are out my numbers again on...      \n",
       "60761    Positive  Grand Theft Auto 5 (EU) for a good Price g2a.c...      \n",
       "11622     Neutral     It could go very well... or go horribly wrong.      \n",
       "36322    Negative  Though this is great news personally. al.ly/30...      \n",
       "\n",
       "                                         cleaned_twitter  \\\n",
       "13411  n2k guys explain special offer keeps growing b...   \n",
       "5348        didnt massive data heres one detailed review   \n",
       "19788                     unluckiest roller ive seen far   \n",
       "71197  hate playing computer players play crap also c...   \n",
       "65043  eamaddennfl madden 21 career mode sucks please...   \n",
       "59515                     another reason qts superiority   \n",
       "42220  holy shit kids numbers oce pubg bgk 0 0 one do...   \n",
       "60761  grand theft auto 5 eu good price g2acomrquicks...   \n",
       "11622                    could go well go horribly wrong   \n",
       "36322           though great news personally ally30eeddn   \n",
       "\n",
       "                                         stemmed_twitter  \\\n",
       "13411  n2k guy explain special offer keep grow buy no...   \n",
       "5348            didnt massiv data here one detail review   \n",
       "19788                     unluckiest roller ive seen far   \n",
       "71197  hate play comput player play crap also chanc mous   \n",
       "65043  eamaddennfl madden 21 career mode suck pleas b...   \n",
       "59515                           anoth reason qt superior   \n",
       "42220  holi shit kid number oce pubg bgk 0 0 one douy...   \n",
       "60761  grand theft auto 5 eu good price g2acomrquicks...   \n",
       "11622                     could go well go horribl wrong   \n",
       "36322               though great news person ally30eeddn   \n",
       "\n",
       "                                      lemmatized_twitter  \n",
       "13411  n2k guy explain special offer keep grow buy no...  \n",
       "5348           didnt massive data here one detail review  \n",
       "19788                      unluckiest roller ive see far  \n",
       "71197  hate playing computer player play crap also ch...  \n",
       "65043  eamaddennfl madden 21 career mode suck please ...  \n",
       "59515                     another reason qts superiority  \n",
       "42220  holy shit kid number oce pubg bgk 0 0 one douy...  \n",
       "60761  grand theft auto 5 eu good price g2acomrquicks...  \n",
       "11622                    could go well go horribly wrong  \n",
       "36322           though great news personally ally30eeddn  "
      ]
     },
     "execution_count": 91,
     "metadata": {},
     "output_type": "execute_result"
    }
   ],
   "source": [
    "df.sample(10)"
   ]
  },
  {
   "cell_type": "markdown",
   "id": "29914a99",
   "metadata": {},
   "source": [
    "## Removing URLS"
   ]
  },
  {
   "cell_type": "code",
   "execution_count": 92,
   "id": "8fb6f80b",
   "metadata": {},
   "outputs": [],
   "source": [
    "text = \"https://www.yogesh.com is the url\""
   ]
  },
  {
   "cell_type": "code",
   "execution_count": 93,
   "id": "177b5bf7",
   "metadata": {},
   "outputs": [],
   "source": [
    "def remove_url(text):\n",
    "    return re.sub(r'https?://\\S+|www\\.\\S+', '', text)"
   ]
  },
  {
   "cell_type": "code",
   "execution_count": 94,
   "id": "8dfa4fbf",
   "metadata": {},
   "outputs": [
    {
     "data": {
      "text/plain": [
       "' is the url'"
      ]
     },
     "execution_count": 94,
     "metadata": {},
     "output_type": "execute_result"
    }
   ],
   "source": [
    "remove_url(text)"
   ]
  },
  {
   "cell_type": "markdown",
   "id": "21cbf6bd",
   "metadata": {},
   "source": [
    "## Removal of HTML tags"
   ]
  },
  {
   "cell_type": "code",
   "execution_count": 95,
   "id": "8564cfdb",
   "metadata": {},
   "outputs": [],
   "source": [
    "text = \"<html> <body><h1> hehhehe </h1><p> This is NLP text preprocessing </p> </body></html>\""
   ]
  },
  {
   "cell_type": "code",
   "execution_count": 96,
   "id": "4d39f1f9",
   "metadata": {},
   "outputs": [],
   "source": [
    "def remove_html_tags(text):\n",
    "    return re.sub(r'<.*?>', '', text)"
   ]
  },
  {
   "cell_type": "code",
   "execution_count": 97,
   "id": "11bf8368",
   "metadata": {},
   "outputs": [
    {
     "data": {
      "text/plain": [
       "'  hehhehe  This is NLP text preprocessing  '"
      ]
     },
     "execution_count": 97,
     "metadata": {},
     "output_type": "execute_result"
    }
   ],
   "source": [
    "remove_html_tags(text)"
   ]
  },
  {
   "cell_type": "markdown",
   "id": "55ba27aa",
   "metadata": {},
   "source": [
    "## spelling correction"
   ]
  },
  {
   "cell_type": "code",
   "execution_count": 113,
   "id": "76b50b3c",
   "metadata": {},
   "outputs": [],
   "source": [
    "text = 'natur is beuty'"
   ]
  },
  {
   "cell_type": "code",
   "execution_count": 114,
   "id": "98f32d59",
   "metadata": {},
   "outputs": [],
   "source": [
    "from spellchecker import SpellChecker\n",
    "spell = SpellChecker()"
   ]
  },
  {
   "cell_type": "code",
   "execution_count": 115,
   "id": "a20b1b44",
   "metadata": {},
   "outputs": [],
   "source": [
    "def correct_spellings(text):\n",
    "    corrected_text = []\n",
    "    misspelled_text = spell.unknown(text.split())\n",
    "    print(misspelled_text)\n",
    "    for word in text.split():\n",
    "        if word in misspelled_text:\n",
    "            corrected_text.append(spell.correction(word))\n",
    "        else:\n",
    "            corrected_text.append(word)\n",
    "    return \" \".join(corrected_text)"
   ]
  },
  {
   "cell_type": "code",
   "execution_count": 116,
   "id": "91d7cde5",
   "metadata": {},
   "outputs": [
    {
     "name": "stdout",
     "output_type": "stream",
     "text": [
      "{'natur', 'beuty'}\n"
     ]
    },
    {
     "data": {
      "text/plain": [
       "'nature is beauty'"
      ]
     },
     "execution_count": 116,
     "metadata": {},
     "output_type": "execute_result"
    }
   ],
   "source": [
    "correct_spellings(text)"
   ]
  },
  {
   "cell_type": "markdown",
   "id": "e2419b62",
   "metadata": {},
   "source": [
    "## word tokenize"
   ]
  },
  {
   "cell_type": "code",
   "execution_count": 117,
   "id": "41d638db",
   "metadata": {},
   "outputs": [],
   "source": [
    "from nltk.tokenize import word_tokenize"
   ]
  },
  {
   "cell_type": "code",
   "execution_count": 118,
   "id": "1617c5d1",
   "metadata": {},
   "outputs": [],
   "source": [
    "data = \" Hello my name is yogesh pant\""
   ]
  },
  {
   "cell_type": "code",
   "execution_count": 121,
   "id": "80374333",
   "metadata": {},
   "outputs": [
    {
     "name": "stdout",
     "output_type": "stream",
     "text": [
      "showing info https://raw.githubusercontent.com/nltk/nltk_data/gh-pages/index.xml\n"
     ]
    },
    {
     "data": {
      "text/plain": [
       "True"
      ]
     },
     "execution_count": 121,
     "metadata": {},
     "output_type": "execute_result"
    }
   ],
   "source": [
    "import nltk\n",
    "nltk.download()"
   ]
  },
  {
   "cell_type": "code",
   "execution_count": 122,
   "id": "332b2124",
   "metadata": {},
   "outputs": [],
   "source": [
    "tokenized_word = word_tokenize(data)"
   ]
  },
  {
   "cell_type": "code",
   "execution_count": 123,
   "id": "bdc98c21",
   "metadata": {},
   "outputs": [
    {
     "name": "stdout",
     "output_type": "stream",
     "text": [
      "['Hello', 'my', 'name', 'is', 'yogesh', 'pant']\n"
     ]
    }
   ],
   "source": [
    "print(tokenized_word)"
   ]
  },
  {
   "cell_type": "markdown",
   "id": "ad951f2b",
   "metadata": {},
   "source": [
    "## Sentence tokenizer"
   ]
  },
  {
   "cell_type": "code",
   "execution_count": 124,
   "id": "22268664",
   "metadata": {},
   "outputs": [],
   "source": [
    "from nltk.tokenize import sent_tokenize"
   ]
  },
  {
   "cell_type": "code",
   "execution_count": 125,
   "id": "99fda722",
   "metadata": {},
   "outputs": [],
   "source": [
    "sentences = \"\"\"Lorem Ipsum Generator is a simple,\n",
    "free online tool that can help you create dummy text strings for any use.\n",
    "Whether you're a designer or a software developer, this tool can generate text easily. \n",
    "Just choose how many words/sentences/paragraphs you need and press 'Generate'.\"\"\""
   ]
  },
  {
   "cell_type": "code",
   "execution_count": 126,
   "id": "ae2ef87f",
   "metadata": {},
   "outputs": [],
   "source": [
    "tokenized_sent = sent_tokenize(sentences)"
   ]
  },
  {
   "cell_type": "code",
   "execution_count": 127,
   "id": "828ce8ad",
   "metadata": {},
   "outputs": [
    {
     "name": "stdout",
     "output_type": "stream",
     "text": [
      "['Lorem Ipsum Generator is a simple,\\nfree online tool that can help you create dummy text strings for any use.', \"Whether you're a designer or a software developer, this tool can generate text easily.\", \"Just choose how many words/sentences/paragraphs you need and press 'Generate'.\"]\n"
     ]
    }
   ],
   "source": [
    "print(tokenized_sent)"
   ]
  },
  {
   "cell_type": "code",
   "execution_count": null,
   "id": "37082a10",
   "metadata": {},
   "outputs": [],
   "source": []
  }
 ],
 "metadata": {
  "kernelspec": {
   "display_name": "Python 3 (ipykernel)",
   "language": "python",
   "name": "python3"
  },
  "language_info": {
   "codemirror_mode": {
    "name": "ipython",
    "version": 3
   },
   "file_extension": ".py",
   "mimetype": "text/x-python",
   "name": "python",
   "nbconvert_exporter": "python",
   "pygments_lexer": "ipython3",
   "version": "3.9.13"
  }
 },
 "nbformat": 4,
 "nbformat_minor": 5
}
